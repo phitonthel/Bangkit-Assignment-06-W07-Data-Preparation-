{
  "nbformat": 4,
  "nbformat_minor": 0,
  "metadata": {
    "colab": {
      "name": "Bangkit - Assignment #06-W07-Data Preparation.ipynb",
      "provenance": [],
      "authorship_tag": "ABX9TyOwv60253NZcMyvfGlKQPfk",
      "include_colab_link": true
    },
    "kernelspec": {
      "name": "python3",
      "display_name": "Python 3"
    },
    "accelerator": "GPU"
  },
  "cells": [
    {
      "cell_type": "markdown",
      "metadata": {
        "id": "view-in-github",
        "colab_type": "text"
      },
      "source": [
        "<a href=\"https://colab.research.google.com/github/phitonthel/Bangkit-Assignment-06-W07-Data-Preparation-/blob/master/Bangkit_Assignment_06_W07_Data_Preparation.ipynb\" target=\"_parent\"><img src=\"https://colab.research.google.com/assets/colab-badge.svg\" alt=\"Open In Colab\"/></a>"
      ]
    },
    {
      "cell_type": "code",
      "metadata": {
        "id": "jThORq4d0Wv2",
        "colab_type": "code",
        "colab": {}
      },
      "source": [
        "import os\n",
        "os.environ['KAGGLE_CONFIG_DIR'] = \"/content/\""
      ],
      "execution_count": 2,
      "outputs": []
    },
    {
      "cell_type": "code",
      "metadata": {
        "id": "UXui8lIb0pvb",
        "colab_type": "code",
        "colab": {
          "resources": {
            "http://localhost:8080/nbextensions/google.colab/files.js": {
              "data": "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",
              "ok": true,
              "headers": [
                [
                  "content-type",
                  "application/javascript"
                ]
              ],
              "status": 200,
              "status_text": "OK"
            }
          },
          "base_uri": "https://localhost:8080/",
          "height": 95
        },
        "outputId": "b88e3a72-78b9-4562-ff9d-a4a3e25f4115"
      },
      "source": [
        "# Run this cell and select the kaggle.json file downloaded\n",
        "# from the Kaggle account settings page.\n",
        "from google.colab import files\n",
        "files.upload()"
      ],
      "execution_count": 3,
      "outputs": [
        {
          "output_type": "display_data",
          "data": {
            "text/html": [
              "\n",
              "     <input type=\"file\" id=\"files-9e90851a-d6ab-44c4-8832-e364ad9cb233\" name=\"files[]\" multiple disabled\n",
              "        style=\"border:none\" />\n",
              "     <output id=\"result-9e90851a-d6ab-44c4-8832-e364ad9cb233\">\n",
              "      Upload widget is only available when the cell has been executed in the\n",
              "      current browser session. Please rerun this cell to enable.\n",
              "      </output>\n",
              "      <script src=\"/nbextensions/google.colab/files.js\"></script> "
            ],
            "text/plain": [
              "<IPython.core.display.HTML object>"
            ]
          },
          "metadata": {
            "tags": []
          }
        },
        {
          "output_type": "stream",
          "text": [
            "Saving kaggle.json to kaggle.json\n"
          ],
          "name": "stdout"
        },
        {
          "output_type": "execute_result",
          "data": {
            "text/plain": [
              "{'kaggle.json': b'{\"username\":\"phitonthel\",\"key\":\"d9ea2b50c6ed0d87faec6a6446db15dd\"}'}"
            ]
          },
          "metadata": {
            "tags": []
          },
          "execution_count": 3
        }
      ]
    },
    {
      "cell_type": "code",
      "metadata": {
        "id": "9pXMQUfV0rzN",
        "colab_type": "code",
        "colab": {
          "base_uri": "https://localhost:8080/",
          "height": 482
        },
        "outputId": "c031602c-2b71-49c0-e522-7a364c9432bb"
      },
      "source": [
        "# Let's make sure the kaggle.json file is present.\n",
        "!ls -lha kaggle.json\n",
        "\n",
        "# Next, install the Kaggle API client.\n",
        "!pip install -q kaggle\n",
        "\n",
        "# The Kaggle API client expects this file to be in ~/.kaggle,\n",
        "# so move it there.\n",
        "!mkdir -p ~/.kaggle\n",
        "!cp kaggle.json ~/.kaggle/\n",
        "\n",
        "# This permissions change avoids a warning on Kaggle tool startup.\n",
        "!chmod 600 ~/.kaggle/kaggle.json\n",
        "\n",
        "# List available datasets.\n",
        "!kaggle datasets list\n",
        "\n"
      ],
      "execution_count": 4,
      "outputs": [
        {
          "output_type": "stream",
          "text": [
            "-rw-r--r-- 1 root root 66 Jul  3 15:07 kaggle.json\n",
            "Warning: Your Kaggle API key is readable by other users on this system! To fix this, you can run 'chmod 600 /content/kaggle.json'\n",
            "Warning: Looks like you're using an outdated API Version, please consider updating (server 1.5.6 / client 1.5.4)\n",
            "ref                                                         title                                                size  lastUpdated          downloadCount  \n",
            "----------------------------------------------------------  --------------------------------------------------  -----  -------------------  -------------  \n",
            "allen-institute-for-ai/CORD-19-research-challenge           COVID-19 Open Research Dataset Challenge (CORD-19)    3GB  2020-06-29 17:04:40          85068  \n",
            "roche-data-science-coalition/uncover                        UNCOVER COVID-19 Challenge                          179MB  2020-05-21 18:57:53          14734  \n",
            "mikahama/the-best-sarcasm-annotated-dataset-in-spanish      The Best Sarcasm Annotated Dataset in Spanish        26KB  2020-06-21 16:50:44             76  \n",
            "shubh0799/churn-modelling                                   Churn Modelling                                     262KB  2020-06-20 17:33:28            640  \n",
            "promptcloud/jobs-on-naukricom                               Jobs On Naukri.com                                    3MB  2020-06-15 10:51:07            847  \n",
            "madeleineferguson/farmers-markets-in-the-united-states      Farmers Markets in the United States                816KB  2020-06-10 16:41:46            802  \n",
            "jessemostipak/caribou-location-tracking                     Caribou Location Tracking                             6MB  2020-06-22 21:44:58            147  \n",
            "yeayates21/garage-detection-unofficial-ssl-challenge        Garage Detection Unofficial SSL Challenge            33MB  2020-06-18 14:00:08             82  \n",
            "rohan0301/unsupervised-learning-on-country-data             Unsupervised Learning on Country Data                 5KB  2020-06-17 07:45:45            624  \n",
            "josehenriqueroveda/fertilizers-by-product-fao               Fertilizers by Product FAO                            1MB  2020-06-16 13:01:07            424  \n",
            "benroshan/factors-affecting-campus-placement                Campus Recruitment                                    5KB  2020-04-11 11:09:02           9973  \n",
            "bobbyscience/league-of-legends-diamond-ranked-games-10-min  League of Legends Diamond Ranked Games (10 min)     539KB  2020-04-13 13:53:02           4150  \n",
            "fireballbyedimyrnmom/us-counties-covid-19-dataset           US counties COVID 19 dataset                          3MB  2020-07-03 11:45:20           9393  \n",
            "divyansh22/flight-delay-prediction                          January Flight Delay Prediction                      23MB  2020-04-14 13:15:41           3407  \n",
            "clmentbisaillon/fake-and-real-news-dataset                  Fake and real news dataset                           41MB  2020-03-26 18:51:15           8516  \n",
            "ikiulian/global-hospital-beds-capacity-for-covid19          Global Hospital Beds Capacity (for covid-19)        284KB  2020-04-26 09:39:35           2890  \n",
            "praveengovi/coronahack-chest-xraydataset                    CoronaHack -Chest X-Ray-Dataset                       1GB  2020-03-20 01:26:40           4268  \n",
            "bappekim/air-pollution-in-seoul                             Air Pollution in Seoul                               20MB  2020-04-03 16:33:49           4399  \n",
            "kimjihoo/coronavirusdataset                                 Data Science for COVID-19 (DS4C)                      7MB  2020-07-01 06:11:23          45586  \n",
            "sudalairajkumar/novel-corona-virus-2019-dataset             Novel Corona Virus 2019 Dataset                       2MB  2020-07-01 05:35:59         221408  \n"
          ],
          "name": "stdout"
        }
      ]
    },
    {
      "cell_type": "code",
      "metadata": {
        "id": "X5vZah-P0sp6",
        "colab_type": "code",
        "colab": {
          "base_uri": "https://localhost:8080/",
          "height": 91
        },
        "outputId": "7cc4b9c4-36e9-4cf5-b84a-769fb861f946"
      },
      "source": [
        "# Download the Kaggle Dataset\n",
        "!kaggle datasets download -d luisblanche/covidct"
      ],
      "execution_count": 5,
      "outputs": [
        {
          "output_type": "stream",
          "text": [
            "Warning: Your Kaggle API key is readable by other users on this system! To fix this, you can run 'chmod 600 /content/kaggle.json'\n",
            "Downloading covidct.zip to /content\n",
            " 94% 81.0M/85.8M [00:03<00:00, 16.8MB/s]\n",
            "100% 85.8M/85.8M [00:03<00:00, 24.8MB/s]\n"
          ],
          "name": "stdout"
        }
      ]
    },
    {
      "cell_type": "code",
      "metadata": {
        "id": "puXMhqTI0u4s",
        "colab_type": "code",
        "colab": {}
      },
      "source": [
        "import zipfile\n",
        "base_dir = '/content'\n",
        "data_dir = os.path.join(base_dir, 'data')\n",
        "local_zip = os.path.join(base_dir, 'covidct.zip')\n",
        "zip_ref = zipfile.ZipFile(local_zip, 'r')\n",
        "os.mkdir(data_dir)\n",
        "zip_ref.extractall(data_dir)\n",
        "zip_ref.close()"
      ],
      "execution_count": 6,
      "outputs": []
    },
    {
      "cell_type": "code",
      "metadata": {
        "id": "OU-PQOwB0wbi",
        "colab_type": "code",
        "colab": {}
      },
      "source": [
        "train_dir = os.path.join(data_dir, 'train')\n",
        "test_dir = os.path.join(data_dir, 'test')\n",
        "os.mkdir(train_dir)\n",
        "os.makedirs(os.path.join(test_dir, 'CT_COVID'))\n",
        "os.mkdir(os.path.join(test_dir, 'CT_NonCOVID'))"
      ],
      "execution_count": 7,
      "outputs": []
    },
    {
      "cell_type": "code",
      "metadata": {
        "id": "Iiy1cNcn0xsf",
        "colab_type": "code",
        "colab": {}
      },
      "source": [
        "import random\n",
        "import math\n",
        "import shutil\n",
        "\n",
        "train_portion = .80\n",
        "\n",
        "def splitter(name):\n",
        "  data_path = os.path.join(data_dir, name)\n",
        "  temp = os.listdir(data_path)\n",
        "  random.shuffle(temp)\n",
        "  split = math.floor(len(temp) * train_portion)\n",
        "\n",
        "  test_tmp = temp[split:]\n",
        "\n",
        "  for i in test_tmp:\n",
        "    shutil.move(os.path.join(data_path, i), os.path.join(test_dir, name, i))\n",
        "  \n",
        "  shutil.move(data_path, train_dir)\n",
        "\n",
        "splitter('CT_COVID')\n",
        "splitter('CT_NonCOVID')"
      ],
      "execution_count": 13,
      "outputs": []
    },
    {
      "cell_type": "code",
      "metadata": {
        "id": "z_T1ByCA1CYo",
        "colab_type": "code",
        "colab": {
          "base_uri": "https://localhost:8080/",
          "height": 54
        },
        "outputId": "2322265b-a88c-4771-e1e2-4835cf7eb61b"
      },
      "source": [
        "import tensorflow as tf\n",
        "import keras_preprocessing\n",
        "from keras_preprocessing.image import ImageDataGenerator\n",
        "\n",
        "train_datagen = ImageDataGenerator(\n",
        "    rescale=1./255,\n",
        "    )\n",
        "     \n",
        "test_datagen = ImageDataGenerator(\n",
        "    rescale=1./255\n",
        "    )\n",
        "\n",
        "train_generator = train_datagen.flow_from_directory(\n",
        "\ttrain_dir,\n",
        "\ttarget_size=(150,150),\n",
        "\tclass_mode='binary',\n",
        "  batch_size= 61\n",
        ")\n",
        "\n",
        "test_generator = test_datagen.flow_from_directory(\n",
        "\ttest_dir,\n",
        "\ttarget_size=(150,150),\n",
        "\tclass_mode='binary',\n",
        "  batch_size=25\n",
        ")"
      ],
      "execution_count": 14,
      "outputs": [
        {
          "output_type": "stream",
          "text": [
            "Found 596 images belonging to 2 classes.\n",
            "Found 150 images belonging to 2 classes.\n"
          ],
          "name": "stdout"
        }
      ]
    },
    {
      "cell_type": "code",
      "metadata": {
        "id": "0-6xehSu1DpU",
        "colab_type": "code",
        "colab": {}
      },
      "source": [
        "class AccCallback(tf.keras.callbacks.Callback):\n",
        "  def on_epoch_end(self, epoch, logs={}):\n",
        "    if logs.get('accuracy') > .9:\n",
        "      self.model.stop_training = True"
      ],
      "execution_count": 15,
      "outputs": []
    },
    {
      "cell_type": "code",
      "metadata": {
        "id": "q5ep9dV11E2H",
        "colab_type": "code",
        "colab": {
          "base_uri": "https://localhost:8080/",
          "height": 501
        },
        "outputId": "66150291-16be-4a14-951a-9ce9e0e3f8b1"
      },
      "source": [
        "from tensorflow.keras.optimizers import RMSprop\n",
        "\n",
        "# DEFINE A KERAS MODEL TO CLASSIFY COVID V NONCOVID\n",
        "model = tf.keras.models.Sequential([\n",
        "    tf.keras.layers.Conv2D(16, (3,3), activation='relu', input_shape=(150, 150, 3)),\n",
        "    tf.keras.layers.MaxPooling2D(2,2),\n",
        "    tf.keras.layers.Conv2D(32, (3,3), activation='relu'),\n",
        "    tf.keras.layers.MaxPooling2D(2,2), \n",
        "    tf.keras.layers.Conv2D(64, (3,3), activation='relu'), \n",
        "    tf.keras.layers.MaxPooling2D(2,2),\n",
        "    # Flatten the results to feed into a DNN\n",
        "    tf.keras.layers.Flatten(), \n",
        "    # 512 neuron hidden layer\n",
        "    tf.keras.layers.Dense(512, activation='relu'), \n",
        "    tf.keras.layers.Dense(1, activation='sigmoid')  \n",
        "])\n",
        "\n",
        "model.compile(optimizer=RMSprop(lr=0.001), loss='binary_crossentropy', metrics=['accuracy'])\n",
        "\n",
        "model.summary()"
      ],
      "execution_count": 16,
      "outputs": [
        {
          "output_type": "stream",
          "text": [
            "Model: \"sequential_1\"\n",
            "_________________________________________________________________\n",
            "Layer (type)                 Output Shape              Param #   \n",
            "=================================================================\n",
            "conv2d_3 (Conv2D)            (None, 148, 148, 16)      448       \n",
            "_________________________________________________________________\n",
            "max_pooling2d_3 (MaxPooling2 (None, 74, 74, 16)        0         \n",
            "_________________________________________________________________\n",
            "conv2d_4 (Conv2D)            (None, 72, 72, 32)        4640      \n",
            "_________________________________________________________________\n",
            "max_pooling2d_4 (MaxPooling2 (None, 36, 36, 32)        0         \n",
            "_________________________________________________________________\n",
            "conv2d_5 (Conv2D)            (None, 34, 34, 64)        18496     \n",
            "_________________________________________________________________\n",
            "max_pooling2d_5 (MaxPooling2 (None, 17, 17, 64)        0         \n",
            "_________________________________________________________________\n",
            "flatten_1 (Flatten)          (None, 18496)             0         \n",
            "_________________________________________________________________\n",
            "dense_2 (Dense)              (None, 512)               9470464   \n",
            "_________________________________________________________________\n",
            "dense_3 (Dense)              (None, 1)                 513       \n",
            "=================================================================\n",
            "Total params: 9,494,561\n",
            "Trainable params: 9,494,561\n",
            "Non-trainable params: 0\n",
            "_________________________________________________________________\n"
          ],
          "name": "stdout"
        }
      ]
    },
    {
      "cell_type": "code",
      "metadata": {
        "id": "bRUHXD631HTL",
        "colab_type": "code",
        "colab": {
          "base_uri": "https://localhost:8080/",
          "height": 1000
        },
        "outputId": "12319b05-48bf-430a-c43e-90248949402c"
      },
      "source": [
        "history = model.fit(train_generator, epochs=100, steps_per_epoch=3, validation_data = test_generator, verbose = 1, validation_steps=3,\n",
        "                    # callbacks=[AccCallback()]\n",
        "                    )"
      ],
      "execution_count": 17,
      "outputs": [
        {
          "output_type": "stream",
          "text": [
            "Epoch 1/100\n",
            "3/3 [==============================] - 1s 467ms/step - loss: 4.2502 - accuracy: 0.4536 - val_loss: 0.7301 - val_accuracy: 0.5333\n",
            "Epoch 2/100\n",
            "3/3 [==============================] - 1s 388ms/step - loss: 0.7005 - accuracy: 0.5266 - val_loss: 0.9288 - val_accuracy: 0.5333\n",
            "Epoch 3/100\n",
            "3/3 [==============================] - 1s 427ms/step - loss: 0.7948 - accuracy: 0.5355 - val_loss: 0.6689 - val_accuracy: 0.5200\n",
            "Epoch 4/100\n",
            "3/3 [==============================] - 1s 473ms/step - loss: 0.6489 - accuracy: 0.6011 - val_loss: 0.6669 - val_accuracy: 0.5333\n",
            "Epoch 5/100\n",
            "3/3 [==============================] - 1s 408ms/step - loss: 0.6640 - accuracy: 0.6154 - val_loss: 0.8240 - val_accuracy: 0.4667\n",
            "Epoch 6/100\n",
            "3/3 [==============================] - 1s 393ms/step - loss: 0.6156 - accuracy: 0.5902 - val_loss: 0.6163 - val_accuracy: 0.6933\n",
            "Epoch 7/100\n",
            "3/3 [==============================] - 1s 422ms/step - loss: 0.5661 - accuracy: 0.6686 - val_loss: 0.5926 - val_accuracy: 0.6800\n",
            "Epoch 8/100\n",
            "3/3 [==============================] - 1s 448ms/step - loss: 0.5333 - accuracy: 0.7322 - val_loss: 0.6172 - val_accuracy: 0.6933\n",
            "Epoch 9/100\n",
            "3/3 [==============================] - 1s 443ms/step - loss: 0.5737 - accuracy: 0.6557 - val_loss: 0.5662 - val_accuracy: 0.6933\n",
            "Epoch 10/100\n",
            "3/3 [==============================] - 1s 438ms/step - loss: 0.5523 - accuracy: 0.7049 - val_loss: 0.5599 - val_accuracy: 0.6667\n",
            "Epoch 11/100\n",
            "3/3 [==============================] - 1s 398ms/step - loss: 0.5303 - accuracy: 0.7432 - val_loss: 0.5014 - val_accuracy: 0.7067\n",
            "Epoch 12/100\n",
            "3/3 [==============================] - 1s 401ms/step - loss: 0.5004 - accuracy: 0.7811 - val_loss: 1.9106 - val_accuracy: 0.4400\n",
            "Epoch 13/100\n",
            "3/3 [==============================] - 1s 452ms/step - loss: 0.7253 - accuracy: 0.7268 - val_loss: 0.6037 - val_accuracy: 0.7200\n",
            "Epoch 14/100\n",
            "3/3 [==============================] - 1s 446ms/step - loss: 0.5769 - accuracy: 0.6831 - val_loss: 0.5733 - val_accuracy: 0.6933\n",
            "Epoch 15/100\n",
            "3/3 [==============================] - 1s 468ms/step - loss: 0.5473 - accuracy: 0.7322 - val_loss: 0.5458 - val_accuracy: 0.7067\n",
            "Epoch 16/100\n",
            "3/3 [==============================] - 1s 436ms/step - loss: 0.4731 - accuracy: 0.7377 - val_loss: 0.5091 - val_accuracy: 0.7867\n",
            "Epoch 17/100\n",
            "3/3 [==============================] - 1s 427ms/step - loss: 0.4830 - accuracy: 0.7633 - val_loss: 0.6953 - val_accuracy: 0.5467\n",
            "Epoch 18/100\n",
            "3/3 [==============================] - 1s 415ms/step - loss: 0.5058 - accuracy: 0.7396 - val_loss: 0.5309 - val_accuracy: 0.6800\n",
            "Epoch 19/100\n",
            "3/3 [==============================] - 1s 471ms/step - loss: 0.4340 - accuracy: 0.8033 - val_loss: 0.5820 - val_accuracy: 0.6533\n",
            "Epoch 20/100\n",
            "3/3 [==============================] - 1s 413ms/step - loss: 0.4971 - accuracy: 0.7432 - val_loss: 0.4230 - val_accuracy: 0.8400\n",
            "Epoch 21/100\n",
            "3/3 [==============================] - 1s 500ms/step - loss: 0.4128 - accuracy: 0.8197 - val_loss: 0.4734 - val_accuracy: 0.7200\n",
            "Epoch 22/100\n",
            "3/3 [==============================] - 1s 418ms/step - loss: 0.4886 - accuracy: 0.7213 - val_loss: 0.5611 - val_accuracy: 0.7200\n",
            "Epoch 23/100\n",
            "3/3 [==============================] - 1s 401ms/step - loss: 0.3357 - accuracy: 0.8579 - val_loss: 0.5710 - val_accuracy: 0.7200\n",
            "Epoch 24/100\n",
            "3/3 [==============================] - 1s 453ms/step - loss: 0.3251 - accuracy: 0.8798 - val_loss: 0.6487 - val_accuracy: 0.7200\n",
            "Epoch 25/100\n",
            "3/3 [==============================] - 1s 426ms/step - loss: 0.9180 - accuracy: 0.5956 - val_loss: 0.6663 - val_accuracy: 0.5600\n",
            "Epoch 26/100\n",
            "3/3 [==============================] - 1s 411ms/step - loss: 0.4878 - accuracy: 0.7760 - val_loss: 0.5110 - val_accuracy: 0.7733\n",
            "Epoch 27/100\n",
            "3/3 [==============================] - 1s 415ms/step - loss: 0.4030 - accuracy: 0.8361 - val_loss: 0.5367 - val_accuracy: 0.7733\n",
            "Epoch 28/100\n",
            "3/3 [==============================] - 1s 440ms/step - loss: 0.3614 - accuracy: 0.8415 - val_loss: 0.5517 - val_accuracy: 0.7600\n",
            "Epoch 29/100\n",
            "3/3 [==============================] - 1s 423ms/step - loss: 0.3304 - accuracy: 0.8470 - val_loss: 0.5099 - val_accuracy: 0.7200\n",
            "Epoch 30/100\n",
            "3/3 [==============================] - 1s 447ms/step - loss: 0.4426 - accuracy: 0.8142 - val_loss: 1.3900 - val_accuracy: 0.6800\n",
            "Epoch 31/100\n",
            "3/3 [==============================] - 1s 476ms/step - loss: 0.5568 - accuracy: 0.7268 - val_loss: 0.4462 - val_accuracy: 0.7467\n",
            "Epoch 32/100\n",
            "3/3 [==============================] - 1s 391ms/step - loss: 0.3506 - accuracy: 0.8415 - val_loss: 0.3275 - val_accuracy: 0.8533\n",
            "Epoch 33/100\n",
            "3/3 [==============================] - 1s 478ms/step - loss: 0.2830 - accuracy: 0.8907 - val_loss: 0.4827 - val_accuracy: 0.8267\n",
            "Epoch 34/100\n",
            "3/3 [==============================] - 1s 400ms/step - loss: 0.3534 - accuracy: 0.8197 - val_loss: 0.3651 - val_accuracy: 0.8533\n",
            "Epoch 35/100\n",
            "3/3 [==============================] - 1s 420ms/step - loss: 0.2503 - accuracy: 0.9112 - val_loss: 0.5486 - val_accuracy: 0.7333\n",
            "Epoch 36/100\n",
            "3/3 [==============================] - 1s 428ms/step - loss: 0.3488 - accuracy: 0.8415 - val_loss: 0.5888 - val_accuracy: 0.7467\n",
            "Epoch 37/100\n",
            "3/3 [==============================] - 1s 396ms/step - loss: 0.2628 - accuracy: 0.8962 - val_loss: 0.3855 - val_accuracy: 0.8400\n",
            "Epoch 38/100\n",
            "3/3 [==============================] - 1s 465ms/step - loss: 0.3002 - accuracy: 0.8743 - val_loss: 0.6086 - val_accuracy: 0.7200\n",
            "Epoch 39/100\n",
            "3/3 [==============================] - 1s 463ms/step - loss: 0.3772 - accuracy: 0.8361 - val_loss: 0.5140 - val_accuracy: 0.7333\n",
            "Epoch 40/100\n",
            "3/3 [==============================] - 1s 399ms/step - loss: 0.2023 - accuracy: 0.9344 - val_loss: 0.4056 - val_accuracy: 0.8000\n",
            "Epoch 41/100\n",
            "3/3 [==============================] - 1s 460ms/step - loss: 0.1910 - accuracy: 0.9290 - val_loss: 1.0845 - val_accuracy: 0.7200\n",
            "Epoch 42/100\n",
            "3/3 [==============================] - 1s 449ms/step - loss: 0.1938 - accuracy: 0.9290 - val_loss: 0.6426 - val_accuracy: 0.7867\n",
            "Epoch 43/100\n",
            "3/3 [==============================] - 1s 438ms/step - loss: 0.2440 - accuracy: 0.8994 - val_loss: 0.5584 - val_accuracy: 0.7733\n",
            "Epoch 44/100\n",
            "3/3 [==============================] - 1s 470ms/step - loss: 0.2278 - accuracy: 0.8798 - val_loss: 0.5113 - val_accuracy: 0.7867\n",
            "Epoch 45/100\n",
            "3/3 [==============================] - 1s 372ms/step - loss: 0.1965 - accuracy: 0.9172 - val_loss: 0.6249 - val_accuracy: 0.7333\n",
            "Epoch 46/100\n",
            "3/3 [==============================] - 1s 387ms/step - loss: 0.2263 - accuracy: 0.9290 - val_loss: 0.6515 - val_accuracy: 0.8133\n",
            "Epoch 47/100\n",
            "3/3 [==============================] - 1s 405ms/step - loss: 0.1918 - accuracy: 0.9290 - val_loss: 1.1352 - val_accuracy: 0.6133\n",
            "Epoch 48/100\n",
            "3/3 [==============================] - 1s 445ms/step - loss: 0.5226 - accuracy: 0.8197 - val_loss: 0.4513 - val_accuracy: 0.7867\n",
            "Epoch 49/100\n",
            "3/3 [==============================] - 1s 436ms/step - loss: 0.2174 - accuracy: 0.9126 - val_loss: 0.4551 - val_accuracy: 0.8000\n",
            "Epoch 50/100\n",
            "3/3 [==============================] - 1s 466ms/step - loss: 0.1524 - accuracy: 0.9508 - val_loss: 0.5493 - val_accuracy: 0.8133\n",
            "Epoch 51/100\n",
            "3/3 [==============================] - 1s 434ms/step - loss: 0.1603 - accuracy: 0.9563 - val_loss: 0.6435 - val_accuracy: 0.7333\n",
            "Epoch 52/100\n",
            "3/3 [==============================] - 1s 480ms/step - loss: 0.1285 - accuracy: 0.9508 - val_loss: 0.3333 - val_accuracy: 0.8800\n",
            "Epoch 53/100\n",
            "3/3 [==============================] - 1s 411ms/step - loss: 0.0943 - accuracy: 0.9781 - val_loss: 0.7076 - val_accuracy: 0.7733\n",
            "Epoch 54/100\n",
            "3/3 [==============================] - 1s 446ms/step - loss: 0.1586 - accuracy: 0.9231 - val_loss: 0.5776 - val_accuracy: 0.7467\n",
            "Epoch 55/100\n",
            "3/3 [==============================] - 1s 406ms/step - loss: 0.1635 - accuracy: 0.9467 - val_loss: 0.8479 - val_accuracy: 0.7200\n",
            "Epoch 56/100\n",
            "3/3 [==============================] - 1s 382ms/step - loss: 0.2461 - accuracy: 0.8743 - val_loss: 0.5076 - val_accuracy: 0.7867\n",
            "Epoch 57/100\n",
            "3/3 [==============================] - 1s 420ms/step - loss: 0.1163 - accuracy: 0.9617 - val_loss: 0.6005 - val_accuracy: 0.8267\n",
            "Epoch 58/100\n",
            "3/3 [==============================] - 1s 432ms/step - loss: 0.0721 - accuracy: 0.9882 - val_loss: 0.6982 - val_accuracy: 0.8000\n",
            "Epoch 59/100\n",
            "3/3 [==============================] - 1s 430ms/step - loss: 0.0682 - accuracy: 0.9781 - val_loss: 0.6425 - val_accuracy: 0.8400\n",
            "Epoch 60/100\n",
            "3/3 [==============================] - 1s 481ms/step - loss: 0.1288 - accuracy: 0.9527 - val_loss: 1.9528 - val_accuracy: 0.6533\n",
            "Epoch 61/100\n",
            "3/3 [==============================] - 1s 489ms/step - loss: 0.3413 - accuracy: 0.8634 - val_loss: 0.4469 - val_accuracy: 0.7733\n",
            "Epoch 62/100\n",
            "3/3 [==============================] - 1s 422ms/step - loss: 0.1002 - accuracy: 0.9891 - val_loss: 0.5726 - val_accuracy: 0.7867\n",
            "Epoch 63/100\n",
            "3/3 [==============================] - 1s 444ms/step - loss: 0.0534 - accuracy: 0.9945 - val_loss: 0.5012 - val_accuracy: 0.8400\n",
            "Epoch 64/100\n",
            "3/3 [==============================] - 1s 404ms/step - loss: 0.0564 - accuracy: 0.9836 - val_loss: 0.6232 - val_accuracy: 0.7867\n",
            "Epoch 65/100\n",
            "3/3 [==============================] - 1s 447ms/step - loss: 0.0366 - accuracy: 0.9882 - val_loss: 0.6180 - val_accuracy: 0.8267\n",
            "Epoch 66/100\n",
            "3/3 [==============================] - 1s 445ms/step - loss: 0.0229 - accuracy: 1.0000 - val_loss: 0.6784 - val_accuracy: 0.8000\n",
            "Epoch 67/100\n",
            "3/3 [==============================] - 1s 445ms/step - loss: 0.0098 - accuracy: 1.0000 - val_loss: 1.0147 - val_accuracy: 0.7867\n",
            "Epoch 68/100\n",
            "3/3 [==============================] - 1s 392ms/step - loss: 0.0531 - accuracy: 0.9891 - val_loss: 0.6727 - val_accuracy: 0.8533\n",
            "Epoch 69/100\n",
            "3/3 [==============================] - 1s 404ms/step - loss: 0.0371 - accuracy: 0.9891 - val_loss: 0.5949 - val_accuracy: 0.8267\n",
            "Epoch 70/100\n",
            "3/3 [==============================] - 1s 441ms/step - loss: 0.0287 - accuracy: 0.9945 - val_loss: 0.7926 - val_accuracy: 0.7467\n",
            "Epoch 71/100\n",
            "3/3 [==============================] - 1s 409ms/step - loss: 1.2083 - accuracy: 0.7574 - val_loss: 0.5697 - val_accuracy: 0.7467\n",
            "Epoch 72/100\n",
            "3/3 [==============================] - 1s 434ms/step - loss: 0.2290 - accuracy: 0.9454 - val_loss: 0.4189 - val_accuracy: 0.8267\n",
            "Epoch 73/100\n",
            "3/3 [==============================] - 1s 465ms/step - loss: 0.1182 - accuracy: 0.9763 - val_loss: 0.4579 - val_accuracy: 0.7600\n",
            "Epoch 74/100\n",
            "3/3 [==============================] - 1s 444ms/step - loss: 0.0753 - accuracy: 0.9945 - val_loss: 0.5515 - val_accuracy: 0.7867\n",
            "Epoch 75/100\n",
            "3/3 [==============================] - 1s 404ms/step - loss: 0.0444 - accuracy: 1.0000 - val_loss: 0.5102 - val_accuracy: 0.7867\n",
            "Epoch 76/100\n",
            "3/3 [==============================] - 1s 400ms/step - loss: 0.0515 - accuracy: 0.9941 - val_loss: 0.9102 - val_accuracy: 0.7733\n",
            "Epoch 77/100\n",
            "3/3 [==============================] - 1s 439ms/step - loss: 0.0212 - accuracy: 1.0000 - val_loss: 0.4739 - val_accuracy: 0.8267\n",
            "Epoch 78/100\n",
            "3/3 [==============================] - 1s 419ms/step - loss: 0.0206 - accuracy: 1.0000 - val_loss: 0.7535 - val_accuracy: 0.8400\n",
            "Epoch 79/100\n",
            "3/3 [==============================] - 1s 420ms/step - loss: 0.0326 - accuracy: 0.9945 - val_loss: 0.5473 - val_accuracy: 0.8400\n",
            "Epoch 80/100\n",
            "3/3 [==============================] - 1s 431ms/step - loss: 0.0101 - accuracy: 1.0000 - val_loss: 0.7492 - val_accuracy: 0.8267\n",
            "Epoch 81/100\n",
            "3/3 [==============================] - 1s 415ms/step - loss: 0.0081 - accuracy: 1.0000 - val_loss: 0.6088 - val_accuracy: 0.8000\n",
            "Epoch 82/100\n",
            "3/3 [==============================] - 1s 415ms/step - loss: 0.0241 - accuracy: 0.9945 - val_loss: 1.1460 - val_accuracy: 0.7600\n",
            "Epoch 83/100\n",
            "3/3 [==============================] - 1s 433ms/step - loss: 0.0056 - accuracy: 1.0000 - val_loss: 0.8392 - val_accuracy: 0.8267\n",
            "Epoch 84/100\n",
            "3/3 [==============================] - 1s 431ms/step - loss: 0.0605 - accuracy: 0.9836 - val_loss: 1.0033 - val_accuracy: 0.7600\n",
            "Epoch 85/100\n",
            "3/3 [==============================] - 1s 467ms/step - loss: 0.0084 - accuracy: 1.0000 - val_loss: 0.6855 - val_accuracy: 0.8000\n",
            "Epoch 86/100\n",
            "3/3 [==============================] - 1s 477ms/step - loss: 0.0190 - accuracy: 0.9891 - val_loss: 0.8054 - val_accuracy: 0.8267\n",
            "Epoch 87/100\n",
            "3/3 [==============================] - 1s 453ms/step - loss: 0.0488 - accuracy: 0.9891 - val_loss: 0.8374 - val_accuracy: 0.6933\n",
            "Epoch 88/100\n",
            "3/3 [==============================] - 1s 462ms/step - loss: 0.1381 - accuracy: 0.9617 - val_loss: 1.2185 - val_accuracy: 0.6933\n",
            "Epoch 89/100\n",
            "3/3 [==============================] - 1s 431ms/step - loss: 0.2631 - accuracy: 0.8852 - val_loss: 1.5565 - val_accuracy: 0.6667\n",
            "Epoch 90/100\n",
            "3/3 [==============================] - 1s 477ms/step - loss: 0.1839 - accuracy: 0.9180 - val_loss: 0.5707 - val_accuracy: 0.8267\n",
            "Epoch 91/100\n",
            "3/3 [==============================] - 1s 461ms/step - loss: 0.0169 - accuracy: 0.9945 - val_loss: 0.7772 - val_accuracy: 0.7733\n",
            "Epoch 92/100\n",
            "3/3 [==============================] - 1s 425ms/step - loss: 0.0184 - accuracy: 0.9945 - val_loss: 0.6219 - val_accuracy: 0.7867\n",
            "Epoch 93/100\n",
            "3/3 [==============================] - 1s 396ms/step - loss: 0.0088 - accuracy: 1.0000 - val_loss: 0.7716 - val_accuracy: 0.8000\n",
            "Epoch 94/100\n",
            "3/3 [==============================] - 1s 393ms/step - loss: 0.0081 - accuracy: 1.0000 - val_loss: 0.3713 - val_accuracy: 0.9200\n",
            "Epoch 95/100\n",
            "3/3 [==============================] - 1s 454ms/step - loss: 0.0080 - accuracy: 0.9941 - val_loss: 0.8843 - val_accuracy: 0.8267\n",
            "Epoch 96/100\n",
            "3/3 [==============================] - 1s 450ms/step - loss: 0.0017 - accuracy: 1.0000 - val_loss: 1.0349 - val_accuracy: 0.8000\n",
            "Epoch 97/100\n",
            "3/3 [==============================] - 1s 414ms/step - loss: 0.0091 - accuracy: 0.9945 - val_loss: 0.7768 - val_accuracy: 0.7467\n",
            "Epoch 98/100\n",
            "3/3 [==============================] - 1s 417ms/step - loss: 0.0048 - accuracy: 1.0000 - val_loss: 1.0941 - val_accuracy: 0.7867\n",
            "Epoch 99/100\n",
            "3/3 [==============================] - 1s 410ms/step - loss: 0.0088 - accuracy: 0.9945 - val_loss: 0.8489 - val_accuracy: 0.7867\n",
            "Epoch 100/100\n",
            "3/3 [==============================] - 1s 453ms/step - loss: 0.0052 - accuracy: 1.0000 - val_loss: 1.2892 - val_accuracy: 0.7333\n"
          ],
          "name": "stdout"
        }
      ]
    },
    {
      "cell_type": "code",
      "metadata": {
        "id": "rhk1dGiO1I7N",
        "colab_type": "code",
        "colab": {
          "base_uri": "https://localhost:8080/",
          "height": 284
        },
        "outputId": "e9888534-2512-43cc-cfe1-56849fdb859b"
      },
      "source": [
        "import matplotlib.pyplot as plt\n",
        "accuracy = history.history['accuracy']\n",
        "val_accuracy = history.history['val_accuracy']\n",
        "epochs = range(len(accuracy))\n",
        "plt.plot(epochs, accuracy, 'r', label='Training Accuracy')\n",
        "plt.plot(epochs, val_accuracy, 'b', label='Testing Accuracy')\n",
        "plt.legend(loc=0)\n",
        "plt.figure()\n",
        "plt.show()"
      ],
      "execution_count": 18,
      "outputs": [
        {
          "output_type": "display_data",
          "data": {
            "image/png": "[encoded data removed]",
            "text/plain": [
              "<Figure size 432x288 with 1 Axes>"
            ]
          },
          "metadata": {
            "tags": [],
            "needs_background": "light"
          }
        },
        {
          "output_type": "display_data",
          "data": {
            "text/plain": [
              "<Figure size 432x288 with 0 Axes>"
            ]
          },
          "metadata": {
            "tags": []
          }
        }
      ]
    },
    {
      "cell_type": "code",
      "metadata": {
        "id": "Sj-bE10e1KJa",
        "colab_type": "code",
        "colab": {
          "base_uri": "https://localhost:8080/",
          "height": 284
        },
        "outputId": "f302b868-7ea3-4199-d6e8-e2a08a36c56e"
      },
      "source": [
        "loss = history.history['loss']\n",
        "val_loss = history.history['val_loss']\n",
        "epochs = range(len(accuracy))\n",
        "plt.plot(epochs, loss, 'g', label='Loss Training')\n",
        "plt.plot(epochs, val_loss, 'c', label='Loss Testing')\n",
        "plt.legend(loc=0)\n",
        "plt.figure()\n",
        "plt.show()"
      ],
      "execution_count": 19,
      "outputs": [
        {
          "output_type": "display_data",
          "data": {
            "image/png": "[encoded data removed]",
            "text/plain": [
              "<Figure size 432x288 with 1 Axes>"
            ]
          },
          "metadata": {
            "tags": [],
            "needs_background": "light"
          }
        },
        {
          "output_type": "display_data",
          "data": {
            "text/plain": [
              "<Figure size 432x288 with 0 Axes>"
            ]
          },
          "metadata": {
            "tags": []
          }
        }
      ]
    }
  ]
}